{
 "cells": [
  {
   "cell_type": "markdown",
   "id": "60ee51c3",
   "metadata": {},
   "source": [
    "#  Big Data in Law Enforcement"
   ]
  },
  {
   "cell_type": "markdown",
   "id": "d22005da",
   "metadata": {},
   "source": [
    "## Introduction: For police, law enforcement is becoming more and more dependent on technology, notably big data. This strategy, also referred to as \"predictive policing,\" makes use of sophisticated technology to identify trends in past crimes in order to predict future criminal activity.\n",
    "\n"
   ]
  },
  {
   "cell_type": "markdown",
   "id": "52b65dc2",
   "metadata": {},
   "source": [
    "*Some of the popular languages that Data Scientists use are:*\n",
    "\n",
    "1. Python\n",
    "2. R\n",
    "3. SQL\n"
   ]
  },
  {
   "cell_type": "markdown",
   "id": "99d5b5f4",
   "metadata": {},
   "source": [
    "*Some of the commonly used libraries used by Data Scientists include:*\n",
    "    \n",
    "- NumPy\n",
    "- Pandas\n",
    "- Scikit-Learn\n",
    "- Matplotlib\n"
   ]
  },
  {
   "cell_type": "markdown",
   "id": "52838cf0",
   "metadata": {},
   "source": [
    "| Data Science Tools      |\n",
    "|------------------------|\n",
    "| Jupyter Notebook       |\n",
    "| Hadoop                 |\n",
    "| TensorFlow             |\n"
   ]
  },
  {
   "cell_type": "markdown",
   "id": "46ca94dc",
   "metadata": {},
   "source": [
    "### Below are a few examples of evaluating arithmetic expressions in Python.\n"
   ]
  },
  {
   "cell_type": "code",
   "execution_count": 6,
   "id": "a8277464",
   "metadata": {},
   "outputs": [
    {
     "data": {
      "text/plain": [
       "33"
      ]
     },
     "execution_count": 6,
     "metadata": {},
     "output_type": "execute_result"
    }
   ],
   "source": [
    "# This is a simple arithmetic expression\n",
    "(4 * 6) + 9\n"
   ]
  },
  {
   "cell_type": "code",
   "execution_count": 7,
   "id": "55e8cadc",
   "metadata": {},
   "outputs": [
    {
     "data": {
      "text/plain": [
       "5.0"
      ]
     },
     "execution_count": 7,
     "metadata": {},
     "output_type": "execute_result"
    }
   ],
   "source": [
    "# This will convert 300 minutes to hours by dividing by 60.\n",
    "minutes = 300\n",
    "hours = minutes / 60\n",
    "hours\n"
   ]
  },
  {
   "cell_type": "markdown",
   "id": "3f5c68ff",
   "metadata": {},
   "source": [
    "**Objectives:**\n",
    "- List of popular languages for Data Science\n",
    "- Introduction to common Data Science libraries\n",
    "- Discuss the relationship between Big Data and Cyber Security\n",
    "- Explore the role of Big Data in Law Enforcement"
   ]
  },
  {
   "cell_type": "markdown",
   "id": "cfd1e989",
   "metadata": {},
   "source": [
    "## Author\n",
    "Kenzhegara Yelzhas\n"
   ]
  },
  {
   "cell_type": "code",
   "execution_count": null,
   "id": "c49f75ac",
   "metadata": {},
   "outputs": [],
   "source": []
  }
 ],
 "metadata": {
  "kernelspec": {
   "display_name": "Python 3 (ipykernel)",
   "language": "python",
   "name": "python3"
  },
  "language_info": {
   "codemirror_mode": {
    "name": "ipython",
    "version": 3
   },
   "file_extension": ".py",
   "mimetype": "text/x-python",
   "name": "python",
   "nbconvert_exporter": "python",
   "pygments_lexer": "ipython3",
   "version": "3.9.13"
  }
 },
 "nbformat": 4,
 "nbformat_minor": 5
}
